{
 "cells": [
  {
   "cell_type": "code",
   "execution_count": null,
   "metadata": {},
   "outputs": [],
   "source": [
    "import sys\n",
    "import os\n",
    "sys.path.append(os.path.join(os.path.realpath('../'),'scripts'))\n",
    "from sfa_analysis import *\n",
    "from tdci_analysis import *"
   ]
  },
  {
   "attachments": {},
   "cell_type": "markdown",
   "metadata": {},
   "source": [
    "# Helium"
   ]
  },
  {
   "attachments": {},
   "cell_type": "markdown",
   "metadata": {},
   "source": [
    "$I_0$ = 2E14 W/cm $^2$"
   ]
  },
  {
   "cell_type": "code",
   "execution_count": null,
   "metadata": {},
   "outputs": [],
   "source": [
    "spectrum_file = '../data/sfa/he_20cyc_800nm_2e14_npc400_spectrum.txt'\n",
    "tdci_data = get_tdci_data('../data/tdci/helium/he_aqz_440_cis_crt', 'zs_2E14_54fs_800nm', method='rk4')\n",
    "colors=['orangered','green','blue']\n",
    "lw = [1.45, 1.25, 1.0]\n",
    "sfa_data, fig, ax = plot_hhg_sfa_comp(spectrum_file, tdci_data, colors=colors, linewidths=lw,\n",
    "                        legend_pos=[0.72, .85], text_pos=[0.69, .66], \n",
    "                        xlim=[0,80], ylim=[-21, 2], figsize=[8.19,6.8], fontsize=20,\n",
    "                        return_data=True, include_without_lifetime=False)\n"
   ]
  },
  {
   "cell_type": "code",
   "execution_count": null,
   "metadata": {},
   "outputs": [],
   "source": [
    "dipole_file = '../data/sfa/he_20cyc_800nm_2e14_npc400_dipole.txt'\n",
    "spectrum_file = '../data/sfa/he_20cyc_800nm_2e14_npc400_spectrum.txt'\n",
    "info = tdci_data['info']\n",
    "params = [0.0569, 20, 200]\n",
    "rbsfa_data, fig, ax = plot_rbsfa_comp(dipole_file, spectrum_file,  info, params=[0.0569, 20, 400], atom_title='Helium')"
   ]
  },
  {
   "attachments": {},
   "cell_type": "markdown",
   "metadata": {},
   "source": [
    "$I_0$ = 3E14 W/cm $^2$"
   ]
  },
  {
   "cell_type": "code",
   "execution_count": null,
   "metadata": {},
   "outputs": [],
   "source": [
    "tdci_data = get_tdci_data('../data/tdci/helium/he_aqz_440_cis_crt', 'zs_3E14_54fs_800nm', method='rk4')\n",
    "spectrum_file = '../data/sfa/he_20cyc_800nm_3e14_npc400_spectrum.txt'\n",
    "freq, spectra = read_spectra(spectrum_file, params=(0.0569, 20, 400))\n",
    "colors=['orangered','green','blue']\n",
    "lw = [1.45, 1.25, 1.0]\n",
    "sfa_data, fig, ax  = plot_hhg_sfa_comp(spectrum_file, tdci_data, \n",
    "                        colors=colors, linewidths=lw,\n",
    "                        legend_pos=[0.7, .85], text_pos=[0.7, .65], \n",
    "                        xlim=[-0.1,100], ylim=[-20, 2], figsize=[8.19,6.8], fontsize=19,\n",
    "                        return_data=True, include_without_lifetime=True)"
   ]
  },
  {
   "cell_type": "code",
   "execution_count": null,
   "metadata": {},
   "outputs": [],
   "source": [
    "dipole_file = '../data/sfa/he_20cyc_800nm_3e14_npc400_dipole.txt'\n",
    "spectrum_file = '../data/sfa/he_20cyc_800nm_3e14_npc400_spectrum.txt'\n",
    "info = tdci_data['info']\n",
    "params = [0.0569, 20, 400]\n",
    "rbsfa_data, fig, ax = plot_rbsfa_comp(dipole_file, spectrum_file,  info, params=params, atom_title='Helium', ylim=[-30,4], xlim=(0,95))"
   ]
  },
  {
   "attachments": {},
   "cell_type": "markdown",
   "metadata": {},
   "source": [
    "$I_0$ = 5E14 W/cm $^2$"
   ]
  },
  {
   "cell_type": "code",
   "execution_count": null,
   "metadata": {},
   "outputs": [],
   "source": [
    "spectrum_file = '../data/sfa/he_20cyc_800nm_5e14_npc400_spectrum.txt'\n",
    "tdci_data = get_tdci_data('../data/tdci/helium/he_aqz_440_cis_crt', 'zs_5E14_54fs_800nm', method='rk4')\n",
    "freq, spectra = read_spectra(spectrum_file, params=(0.0569, 20, 400))\n",
    "colors=['orangered','green','blue']\n",
    "lw = [1.45, 1.25, 1.0]\n",
    "sfa_data, fig, ax  = plot_hhg_sfa_comp(spectrum_file, tdci_data, \n",
    "                        colors=colors, linewidths=lw,\n",
    "                        legend_pos=[0.65, .85], text_pos=[0.6, .65], \n",
    "                        xlim=[-0.1,100], ylim=[-18, 3], figsize=[8.19,6.8], fontsize=19,\n",
    "                        return_data=True, include_without_lifetime=True)"
   ]
  },
  {
   "cell_type": "code",
   "execution_count": null,
   "metadata": {},
   "outputs": [],
   "source": [
    "dipole_file = '../data/sfa/he_20cyc_800nm_5e14_npc400_dipole.txt'\n",
    "spectrum_file = '../data/sfa/he_20cyc_800nm_5e14_npc400_spectrum.txt'\n",
    "info = tdci_data['info']\n",
    "params = [0.0569, 20, 400]\n",
    "rbsfa_data, fig, ax = plot_rbsfa_comp(dipole_file, spectrum_file,  info, params=params, atom_title='Helium', ylim=[-30,4], xlim=(0,105))"
   ]
  },
  {
   "attachments": {},
   "cell_type": "markdown",
   "metadata": {},
   "source": [
    "# $\\text{H}^{-}$"
   ]
  },
  {
   "attachments": {},
   "cell_type": "markdown",
   "metadata": {},
   "source": [
    "$I_0$ = 15E12 W/cm $^2$"
   ]
  },
  {
   "cell_type": "code",
   "execution_count": null,
   "metadata": {},
   "outputs": [],
   "source": [
    "spectrum_file = '../data/sfa/h_minus_20cyc_800nm_15e12_npc500_spectrum.txt'\n",
    "tdci_data = get_tdci_data('../data/tdci/h_minus/h_minus_aqz_440_cis_crt', 'zs_15E12_54fs_800nm', method='rk4')\n",
    "sfa_data, fig, ax  = plot_hhg_sfa_comp(spectrum_file, tdci_data, sfa_params=(0.0569, 20, 500), \n",
    "            xlim=[0.1,70], ylim=[-27,10], linewidths=[1.35, 1.25], return_data=True)"
   ]
  },
  {
   "attachments": {},
   "cell_type": "markdown",
   "metadata": {},
   "source": [
    "$I_0$ = 45E11 W/cm $^2$"
   ]
  },
  {
   "cell_type": "code",
   "execution_count": null,
   "metadata": {},
   "outputs": [],
   "source": [
    "spectrum_file = '../data/sfa/h_minus_20cyc_800nm_45e11_npc500_spectrum.txt'\n",
    "tdci_data = get_tdci_data('../data/tdci/h_minus/h_minus_aqz_440_cis_crt', 'zs_45E11_54fs_800nm', method='rk4')\n",
    "sfa_data, fig, ax = plot_hhg_sfa_comp(spectrum_file, tdci_data, sfa_params=(0.0569, 20, 500), \n",
    "            xlim=[0.1,50], ylim=[-27,10], return_data=True)"
   ]
  },
  {
   "attachments": {},
   "cell_type": "markdown",
   "metadata": {},
   "source": [
    "$I_0$ = 95E11 W/cm $^2$"
   ]
  },
  {
   "cell_type": "code",
   "execution_count": null,
   "metadata": {},
   "outputs": [],
   "source": [
    "spectrum_file = '../data/sfa/h_minus_20cyc_800nm_95e11_npc500_spectrum.txt'\n",
    "tdci_data = get_tdci_data('../data/tdci/h_minus/h_minus_aqz_440_cis_crt', 'zs_95E11_54fs_800nm', method='rk4')\n",
    "sfa_data, fig, ax = plot_hhg_sfa_comp(spectrum_file, tdci_data, sfa_params=(0.0569,20,500), xlim=[0.1,50], ylim=[-27,10], return_data=True)"
   ]
  },
  {
   "attachments": {},
   "cell_type": "markdown",
   "metadata": {},
   "source": [
    "# $\\text{Li}^{+}$"
   ]
  },
  {
   "attachments": {},
   "cell_type": "markdown",
   "metadata": {},
   "source": [
    "$\\text{I}_{0}$ = 5E14 W/$\\text{cm}^2$"
   ]
  },
  {
   "cell_type": "code",
   "execution_count": null,
   "metadata": {},
   "outputs": [],
   "source": [
    "spectrum_file = '../data/sfa/li_plus_20cyc_800nm_5e14_npc500_spectrum.txt'\n",
    "tdci_data = get_tdci_data('../data/tdci/li_plus/li_plus_aqz_440_cis_crt', 'zs_5E14_54fs_800nm', method='rk4')\n",
    "sfa_data, fig, ax = plot_hhg_sfa_comp(spectrum_file, tdci_data, sfa_params=(0.0569, 20, 500), xlim=[0,130], ylim=[-19, 0], print_title=True, return_data=True)"
   ]
  },
  {
   "attachments": {},
   "cell_type": "markdown",
   "metadata": {},
   "source": [
    "$\\text{I}_{0}$ = 7E14 W/$\\text{cm}^2$"
   ]
  },
  {
   "cell_type": "code",
   "execution_count": null,
   "metadata": {},
   "outputs": [],
   "source": [
    "# spectrum_file = '../data/sfa/li_plus_20cyc_800nm_7e14_npc500_spectrum.txt'\n",
    "# data = get_tdci_data('../data/tdci/li_plus/li_plus_aqz_440_cis_crt', 'zs_7E14_54fs_800nm', method='rk4')\n",
    "# plot_hhg_sfa_comp(spectrum_file ,data, sfa_params=(0.0569, 20, 500), xlim=[0,85], ylim=[-20, 2])"
   ]
  },
  {
   "cell_type": "code",
   "execution_count": null,
   "metadata": {},
   "outputs": [],
   "source": [
    "# spectrum_file = '../data/sfa/li_plus_20cyc_800nm_7e14_npc500_spectrum.txt'\n",
    "# data = get_data('../data/tdci/li_plus/li_plus_aqz_440_cis_crt', 'zs_7E14_54fs_800nm', method='rk4')\n",
    "# plot_hhg_sfa_comp(spectrum_file, data, sfa_params=[0.0569, 20, 500], xlim=[0,85], ylim=[-20, 2])"
   ]
  },
  {
   "cell_type": "code",
   "execution_count": null,
   "metadata": {},
   "outputs": [],
   "source": []
  }
 ],
 "metadata": {
  "kernelspec": {
   "display_name": "p4env",
   "language": "python",
   "name": "python3"
  },
  "language_info": {
   "codemirror_mode": {
    "name": "ipython",
    "version": 3
   },
   "file_extension": ".py",
   "mimetype": "text/x-python",
   "name": "python",
   "nbconvert_exporter": "python",
   "pygments_lexer": "ipython3",
   "version": "3.9.16"
  },
  "orig_nbformat": 4
 },
 "nbformat": 4,
 "nbformat_minor": 2
}
